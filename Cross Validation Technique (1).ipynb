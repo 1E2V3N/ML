{
 "cells": [
  {
   "cell_type": "code",
   "execution_count": 34,
   "id": "96159f4a",
   "metadata": {
    "collapsed": true
   },
   "outputs": [],
   "source": [
    "#importing required libraries\n",
    "\n",
    "import numpy as np\n",
    "import pandas as pd\n",
    "from sklearn.model_selection import train_test_split, cross_val_score, LeaveOneOut, KFold, LeaveOneGroupOut\n",
    "from sklearn.tree import DecisionTreeRegressor, DecisionTreeClassifier\n",
    "from sklearn.metrics import classification_report\n",
    "from sklearn.metrics import mean_squared_error, accuracy_score"
   ]
  },
  {
   "cell_type": "code",
   "execution_count": 2,
   "id": "349ec9d4",
   "metadata": {},
   "outputs": [],
   "source": [
    "df = pd.read_csv('Salary_Data.csv')"
   ]
  },
  {
   "cell_type": "code",
   "execution_count": 3,
   "id": "1f1e4066",
   "metadata": {},
   "outputs": [
    {
     "data": {
      "text/html": [
       "<div>\n",
       "<style scoped>\n",
       "    .dataframe tbody tr th:only-of-type {\n",
       "        vertical-align: middle;\n",
       "    }\n",
       "\n",
       "    .dataframe tbody tr th {\n",
       "        vertical-align: top;\n",
       "    }\n",
       "\n",
       "    .dataframe thead th {\n",
       "        text-align: right;\n",
       "    }\n",
       "</style>\n",
       "<table border=\"1\" class=\"dataframe\">\n",
       "  <thead>\n",
       "    <tr style=\"text-align: right;\">\n",
       "      <th></th>\n",
       "      <th>Age</th>\n",
       "      <th>Gender</th>\n",
       "      <th>Education Level</th>\n",
       "      <th>Job Title</th>\n",
       "      <th>Years of Experience</th>\n",
       "      <th>Salary</th>\n",
       "    </tr>\n",
       "  </thead>\n",
       "  <tbody>\n",
       "    <tr>\n",
       "      <th>0</th>\n",
       "      <td>32.0</td>\n",
       "      <td>Male</td>\n",
       "      <td>Bachelor's</td>\n",
       "      <td>Software Engineer</td>\n",
       "      <td>5.0</td>\n",
       "      <td>90000.0</td>\n",
       "    </tr>\n",
       "    <tr>\n",
       "      <th>1</th>\n",
       "      <td>28.0</td>\n",
       "      <td>Female</td>\n",
       "      <td>Master's</td>\n",
       "      <td>Data Analyst</td>\n",
       "      <td>3.0</td>\n",
       "      <td>65000.0</td>\n",
       "    </tr>\n",
       "    <tr>\n",
       "      <th>2</th>\n",
       "      <td>45.0</td>\n",
       "      <td>Male</td>\n",
       "      <td>PhD</td>\n",
       "      <td>Senior Manager</td>\n",
       "      <td>15.0</td>\n",
       "      <td>150000.0</td>\n",
       "    </tr>\n",
       "    <tr>\n",
       "      <th>3</th>\n",
       "      <td>36.0</td>\n",
       "      <td>Female</td>\n",
       "      <td>Bachelor's</td>\n",
       "      <td>Sales Associate</td>\n",
       "      <td>7.0</td>\n",
       "      <td>60000.0</td>\n",
       "    </tr>\n",
       "    <tr>\n",
       "      <th>4</th>\n",
       "      <td>52.0</td>\n",
       "      <td>Male</td>\n",
       "      <td>Master's</td>\n",
       "      <td>Director</td>\n",
       "      <td>20.0</td>\n",
       "      <td>200000.0</td>\n",
       "    </tr>\n",
       "  </tbody>\n",
       "</table>\n",
       "</div>"
      ],
      "text/plain": [
       "    Age  Gender Education Level          Job Title  Years of Experience  \\\n",
       "0  32.0    Male      Bachelor's  Software Engineer                  5.0   \n",
       "1  28.0  Female        Master's       Data Analyst                  3.0   \n",
       "2  45.0    Male             PhD     Senior Manager                 15.0   \n",
       "3  36.0  Female      Bachelor's    Sales Associate                  7.0   \n",
       "4  52.0    Male        Master's           Director                 20.0   \n",
       "\n",
       "     Salary  \n",
       "0   90000.0  \n",
       "1   65000.0  \n",
       "2  150000.0  \n",
       "3   60000.0  \n",
       "4  200000.0  "
      ]
     },
     "execution_count": 3,
     "metadata": {},
     "output_type": "execute_result"
    }
   ],
   "source": [
    "df.head()"
   ]
  },
  {
   "cell_type": "code",
   "execution_count": 4,
   "id": "553aca8c",
   "metadata": {},
   "outputs": [
    {
     "data": {
      "text/plain": [
       "Age                    2\n",
       "Gender                 2\n",
       "Education Level        3\n",
       "Job Title              2\n",
       "Years of Experience    3\n",
       "Salary                 5\n",
       "dtype: int64"
      ]
     },
     "execution_count": 4,
     "metadata": {},
     "output_type": "execute_result"
    }
   ],
   "source": [
    "df.isnull().sum()"
   ]
  },
  {
   "cell_type": "code",
   "execution_count": 5,
   "id": "14a05e99",
   "metadata": {},
   "outputs": [],
   "source": [
    "df = df.dropna()"
   ]
  },
  {
   "cell_type": "code",
   "execution_count": 6,
   "id": "7a0e8d9f",
   "metadata": {},
   "outputs": [
    {
     "data": {
      "text/plain": [
       "Age                    0\n",
       "Gender                 0\n",
       "Education Level        0\n",
       "Job Title              0\n",
       "Years of Experience    0\n",
       "Salary                 0\n",
       "dtype: int64"
      ]
     },
     "execution_count": 6,
     "metadata": {},
     "output_type": "execute_result"
    }
   ],
   "source": [
    "df.isnull().sum()"
   ]
  },
  {
   "cell_type": "code",
   "execution_count": 7,
   "id": "820136da",
   "metadata": {},
   "outputs": [
    {
     "data": {
      "text/html": [
       "<div>\n",
       "<style scoped>\n",
       "    .dataframe tbody tr th:only-of-type {\n",
       "        vertical-align: middle;\n",
       "    }\n",
       "\n",
       "    .dataframe tbody tr th {\n",
       "        vertical-align: top;\n",
       "    }\n",
       "\n",
       "    .dataframe thead th {\n",
       "        text-align: right;\n",
       "    }\n",
       "</style>\n",
       "<table border=\"1\" class=\"dataframe\">\n",
       "  <thead>\n",
       "    <tr style=\"text-align: right;\">\n",
       "      <th></th>\n",
       "      <th>Age</th>\n",
       "      <th>Years of Experience</th>\n",
       "      <th>Salary</th>\n",
       "    </tr>\n",
       "  </thead>\n",
       "  <tbody>\n",
       "    <tr>\n",
       "      <th>count</th>\n",
       "      <td>6698.000000</td>\n",
       "      <td>6698.000000</td>\n",
       "      <td>6698.000000</td>\n",
       "    </tr>\n",
       "    <tr>\n",
       "      <th>mean</th>\n",
       "      <td>33.623022</td>\n",
       "      <td>8.095178</td>\n",
       "      <td>115329.253061</td>\n",
       "    </tr>\n",
       "    <tr>\n",
       "      <th>std</th>\n",
       "      <td>7.615784</td>\n",
       "      <td>6.060291</td>\n",
       "      <td>52789.792507</td>\n",
       "    </tr>\n",
       "    <tr>\n",
       "      <th>min</th>\n",
       "      <td>21.000000</td>\n",
       "      <td>0.000000</td>\n",
       "      <td>350.000000</td>\n",
       "    </tr>\n",
       "    <tr>\n",
       "      <th>25%</th>\n",
       "      <td>28.000000</td>\n",
       "      <td>3.000000</td>\n",
       "      <td>70000.000000</td>\n",
       "    </tr>\n",
       "    <tr>\n",
       "      <th>50%</th>\n",
       "      <td>32.000000</td>\n",
       "      <td>7.000000</td>\n",
       "      <td>115000.000000</td>\n",
       "    </tr>\n",
       "    <tr>\n",
       "      <th>75%</th>\n",
       "      <td>38.000000</td>\n",
       "      <td>12.000000</td>\n",
       "      <td>160000.000000</td>\n",
       "    </tr>\n",
       "    <tr>\n",
       "      <th>max</th>\n",
       "      <td>62.000000</td>\n",
       "      <td>34.000000</td>\n",
       "      <td>250000.000000</td>\n",
       "    </tr>\n",
       "  </tbody>\n",
       "</table>\n",
       "</div>"
      ],
      "text/plain": [
       "               Age  Years of Experience         Salary\n",
       "count  6698.000000          6698.000000    6698.000000\n",
       "mean     33.623022             8.095178  115329.253061\n",
       "std       7.615784             6.060291   52789.792507\n",
       "min      21.000000             0.000000     350.000000\n",
       "25%      28.000000             3.000000   70000.000000\n",
       "50%      32.000000             7.000000  115000.000000\n",
       "75%      38.000000            12.000000  160000.000000\n",
       "max      62.000000            34.000000  250000.000000"
      ]
     },
     "execution_count": 7,
     "metadata": {},
     "output_type": "execute_result"
    }
   ],
   "source": [
    "df.describe()"
   ]
  },
  {
   "cell_type": "code",
   "execution_count": 8,
   "id": "0c83b10a",
   "metadata": {},
   "outputs": [],
   "source": [
    "X_reg = df.drop(\"Salary\", axis=1)\n",
    "y_reg = df[\"Salary\"]"
   ]
  },
  {
   "cell_type": "code",
   "execution_count": 9,
   "id": "e0e3a009",
   "metadata": {},
   "outputs": [],
   "source": [
    "# Perform one-hot encoding for categorical variables\n",
    "data_encoded = pd.get_dummies(df, columns=[\"Gender\", \"Job Title\", \"Education Level\"])"
   ]
  },
  {
   "cell_type": "code",
   "execution_count": 10,
   "id": "a84a2c5d",
   "metadata": {},
   "outputs": [],
   "source": [
    "# Split into features (X) and target variable (y) for regression\n",
    "X_reg = data_encoded.drop(\"Salary\", axis=1)\n",
    "y_reg = data_encoded[\"Salary\"]"
   ]
  },
  {
   "cell_type": "code",
   "execution_count": 13,
   "id": "8789211b",
   "metadata": {},
   "outputs": [],
   "source": [
    "# Split into features (X) and target variable (y) for classification\n",
    "salary_threshold = data_encoded[\"Salary\"].mean()\n",
    "data_encoded[\"Salary_Class\"] = np.where(data_encoded[\"Salary\"] >= salary_threshold, \"High\", \"Low\")\n",
    "X_cls = data_encoded.drop([\"Salary\", \"Salary_Class\"], axis=1)\n",
    "y_cls = data_encoded[\"Salary_Class\"]"
   ]
  },
  {
   "cell_type": "code",
   "execution_count": 14,
   "id": "178388de",
   "metadata": {},
   "outputs": [],
   "source": [
    "# Train-test split for regression\n",
    "X_reg_train, X_reg_test, y_reg_train, y_reg_test = train_test_split(X_reg, y_reg, test_size=0.2, random_state=42)"
   ]
  },
  {
   "cell_type": "code",
   "execution_count": 16,
   "id": "7e85fa91",
   "metadata": {},
   "outputs": [],
   "source": [
    "# Decision Tree Regression\n",
    "reg_model = DecisionTreeRegressor()"
   ]
  },
  {
   "cell_type": "code",
   "execution_count": 17,
   "id": "4f7770ec",
   "metadata": {},
   "outputs": [
    {
     "data": {
      "text/plain": [
       "DecisionTreeRegressor()"
      ]
     },
     "execution_count": 17,
     "metadata": {},
     "output_type": "execute_result"
    }
   ],
   "source": [
    "# Fit the model\n",
    "reg_model.fit(X_reg_train, y_reg_train)"
   ]
  },
  {
   "cell_type": "code",
   "execution_count": 18,
   "id": "dc80f838",
   "metadata": {},
   "outputs": [],
   "source": [
    "# Predict on test set\n",
    "y_reg_pred = reg_model.predict(X_reg_test)"
   ]
  },
  {
   "cell_type": "code",
   "execution_count": 15,
   "id": "2ce18488",
   "metadata": {},
   "outputs": [],
   "source": [
    "# Train-test split for classification\n",
    "X_cls_train, X_cls_test, y_cls_train, y_cls_test = train_test_split(X_cls, y_cls, test_size=0.2, random_state=42)"
   ]
  },
  {
   "cell_type": "code",
   "execution_count": 19,
   "id": "21c4e9c6",
   "metadata": {},
   "outputs": [],
   "source": [
    "# Decision Tree Classification\n",
    "cls_model = DecisionTreeClassifier()"
   ]
  },
  {
   "cell_type": "code",
   "execution_count": 20,
   "id": "d264c45a",
   "metadata": {},
   "outputs": [
    {
     "data": {
      "text/plain": [
       "DecisionTreeClassifier()"
      ]
     },
     "execution_count": 20,
     "metadata": {},
     "output_type": "execute_result"
    }
   ],
   "source": [
    "# Fit the model\n",
    "cls_model.fit(X_cls_train, y_cls_train)"
   ]
  },
  {
   "cell_type": "code",
   "execution_count": 21,
   "id": "cc5b9c42",
   "metadata": {},
   "outputs": [],
   "source": [
    "# Predict on test set\n",
    "y_cls_pred = cls_model.predict(X_cls_test)"
   ]
  },
  {
   "cell_type": "code",
   "execution_count": null,
   "id": "d7097543",
   "metadata": {},
   "outputs": [],
   "source": []
  },
  {
   "cell_type": "code",
   "execution_count": 24,
   "id": "f99b72d8",
   "metadata": {},
   "outputs": [],
   "source": [
    "# Regression\n",
    "\n",
    "# Train/test split evaluation\n",
    "reg_mse = mean_squared_error(y_reg_test, y_reg_pred)"
   ]
  },
  {
   "cell_type": "code",
   "execution_count": 25,
   "id": "bc4db53c",
   "metadata": {},
   "outputs": [],
   "source": [
    "# k-Fold Cross-Validation evaluation\n",
    "kfold_scores = cross_val_score(reg_model, X_reg, y_reg, cv=5, scoring='neg_mean_squared_error')\n",
    "reg_mse_kfold = -kfold_scores.mean()"
   ]
  },
  {
   "cell_type": "code",
   "execution_count": 26,
   "id": "d4b83ac6",
   "metadata": {},
   "outputs": [],
   "source": [
    "# Leave-One-Out Cross-Validation evaluation\n",
    "loo = LeaveOneOut()\n",
    "loo_scores = cross_val_score(reg_model, X_reg, y_reg, cv=loo, scoring='neg_mean_squared_error')\n",
    "reg_mse_loo = -loo_scores.mean()"
   ]
  },
  {
   "cell_type": "code",
   "execution_count": 27,
   "id": "2917f385",
   "metadata": {},
   "outputs": [],
   "source": [
    "# Classification\n",
    "\n",
    "# Train/test split evaluation\n",
    "cls_report = classification_report(y_cls_test, y_cls_pred)"
   ]
  },
  {
   "cell_type": "code",
   "execution_count": 28,
   "id": "73e83d35",
   "metadata": {},
   "outputs": [],
   "source": [
    "# k-Fold Cross-Validation evaluation\n",
    "kfold_scores = cross_val_score(cls_model, X_cls, y_cls, cv=5, scoring='accuracy')\n",
    "cls_accuracy_kfold = kfold_scores.mean()"
   ]
  },
  {
   "cell_type": "code",
   "execution_count": 29,
   "id": "59457459",
   "metadata": {},
   "outputs": [],
   "source": [
    "# Leave-One-Out Cross-Validation evaluation\n",
    "loo = LeaveOneOut()\n",
    "loo_scores = cross_val_score(cls_model, X_cls, y_cls, cv=loo, scoring='accuracy')\n",
    "cls_accuracy_loo = loo_scores.mean()"
   ]
  },
  {
   "cell_type": "code",
   "execution_count": 33,
   "id": "0b999d6b",
   "metadata": {},
   "outputs": [
    {
     "name": "stdout",
     "output_type": "stream",
     "text": [
      "Regression Model Evaluation:\n",
      "\n",
      "MSE (Train/Test Split): 63825986.35991665\n",
      "MSE (k-Fold CV): 804454635.5022757\n",
      "MSE (Leave-One-Out CV): 58128824.002516374\n",
      "\n",
      "Classification Model Evaluation:\n",
      "\n",
      "Classification Report (Train/Test Split):\n",
      "               precision    recall  f1-score   support\n",
      "\n",
      "        High       0.98      0.98      0.98       655\n",
      "         Low       0.98      0.98      0.98       685\n",
      "\n",
      "    accuracy                           0.98      1340\n",
      "   macro avg       0.98      0.98      0.98      1340\n",
      "weighted avg       0.98      0.98      0.98      1340\n",
      "\n",
      "Accuracy Score (k-Fold CV): 0.8686280695105504\n",
      "Accuracy Score (Leave-One-Out CV): 0.9825320991340699\n"
     ]
    }
   ],
   "source": [
    "# Print the results\n",
    "\n",
    "print(\"Regression Model Evaluation:\")\n",
    "print(\"\\nMSE (Train/Test Split):\", reg_mse)\n",
    "print(\"MSE (k-Fold CV):\", reg_mse_kfold)\n",
    "print(\"MSE (Leave-One-Out CV):\", reg_mse_loo)\n",
    "\n",
    "print(\"\\nClassification Model Evaluation:\")\n",
    "\n",
    "print(\"\\nClassification Report (Train/Test Split):\\n\", cls_report)\n",
    "print(\"Accuracy Score (k-Fold CV):\", cls_accuracy_kfold)\n",
    "print(\"Accuracy Score (Leave-One-Out CV):\", cls_accuracy_loo)\n"
   ]
  },
  {
   "cell_type": "markdown",
   "id": "eae2484a",
   "metadata": {},
   "source": [
    "Regression Model Evaluation:\n",
    "- MSE (Train/Test Split): 63825986.35991665\n",
    "- MSE (k-Fold CV): 804454635.5022757\n",
    "- MSE (Leave-One-Out CV): 58128824.002516374\n",
    "\n",
    "The regression model shows a lower mean squared error (MSE) value for the Train/Test Split evaluation compared to the k-Fold CV and Leave-One-Out CV evaluations. This suggests that the model may be overfitting to the training data, resulting in poor performance on unseen data. The higher MSE values in k-Fold CV and Leave-One-Out CV indicate that the model's performance is more consistent across different folds or leave-one-out iterations, providing a more reliable estimate of the model's generalization performance.\n",
    "\n",
    "Classification Model Evaluation:\n",
    "- Classification Report (Train/Test Split):\n",
    "  - Precision: 0.98\n",
    "  - Recall: 0.98\n",
    "  - F1-Score: 0.98\n",
    "  - Accuracy: 0.98\n",
    "\n",
    "- Accuracy Score (k-Fold CV): 0.8686280695105504\n",
    "- Accuracy Score (Leave-One-Out CV): 0.9825320991340699\n",
    "\n",
    "The classification model shows high precision, recall, and F1-score values for both classes (High and Low) in the Train/Test Split evaluation, indicating a good classification performance. The accuracy score of 0.98 also suggests a high overall accuracy of the model. However, the k-Fold CV evaluation shows a lower accuracy score, indicating that the model's performance may vary across different folds. The Leave-One-Out CV evaluation demonstrates high accuracy, suggesting that the model generalizes well to unseen data when only one sample is left out at a time.\n",
    "\n",
    "In conclusion, the regression model shows signs of overfitting, as it performs better on the training data compared to unseen data. The classification model demonstrates consistent performance across different validation techniques, with the Train/Test Split and Leave-One-Out CV evaluations showing high accuracy and precision. Therefore, the well-balanced model, in this case, is the classification model evaluated using the Train/Test Split and Leave-One-Out CV techniques."
   ]
  }
 ],
 "metadata": {
  "kernelspec": {
   "display_name": "Python 3 (ipykernel)",
   "language": "python",
   "name": "python3"
  },
  "language_info": {
   "codemirror_mode": {
    "name": "ipython",
    "version": 3
   },
   "file_extension": ".py",
   "mimetype": "text/x-python",
   "name": "python",
   "nbconvert_exporter": "python",
   "pygments_lexer": "ipython3",
   "version": "3.9.12"
  }
 },
 "nbformat": 4,
 "nbformat_minor": 5
}
