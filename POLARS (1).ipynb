{
 "cells": [
  {
   "cell_type": "markdown",
   "id": "8d1eebc2",
   "metadata": {},
   "source": [
    "## Polars python library"
   ]
  },
  {
   "cell_type": "markdown",
   "id": "a7736393",
   "metadata": {},
   "source": [
    "Polars is a powerful Python library designed for efficient data manipulation and analysis, especially with large datasets.Its high speed and performance optimizations, making it a great choice for handling big data effectively. It highlight Polars' user-friendly interface with DataFrame structures, which makes data manipulation tasks intuitive. Additionally, it seamlessly integrates with other Python libraries like NumPy and PyArrow, expanding its capabilities and benefiting from a wide range of tools. It also emphasize the convenience of converting Polars DataFrames to pandas DataFrames for interoperability and easy integration into existing workflows. Overall, Polars provides an extensive toolkit to maximize the potential of data analysis endeavors, whether dealing with complex data types, large datasets, or seeking performance improvements."
   ]
  },
  {
   "cell_type": "code",
   "execution_count": 17,
   "id": "af05abe2",
   "metadata": {},
   "outputs": [
    {
     "data": {
      "text/html": [
       "<div><style>\n",
       ".dataframe > thead > tr > th,\n",
       ".dataframe > tbody > tr > td {\n",
       "  text-align: right;\n",
       "}\n",
       "</style>\n",
       "<small>shape: (5, 8)</small><table border=\"1\" class=\"dataframe\"><thead><tr><th>Carat Weight</th><th>Cut</th><th>Color</th><th>Clarity</th><th>Polish</th><th>Symmetry</th><th>Report</th><th>Price</th></tr><tr><td>f64</td><td>str</td><td>str</td><td>str</td><td>str</td><td>str</td><td>str</td><td>i64</td></tr></thead><tbody><tr><td>1.1</td><td>&quot;Ideal&quot;</td><td>&quot;H&quot;</td><td>&quot;SI1&quot;</td><td>&quot;VG&quot;</td><td>&quot;EX&quot;</td><td>&quot;GIA&quot;</td><td>5169</td></tr><tr><td>0.83</td><td>&quot;Ideal&quot;</td><td>&quot;H&quot;</td><td>&quot;VS1&quot;</td><td>&quot;ID&quot;</td><td>&quot;ID&quot;</td><td>&quot;AGSL&quot;</td><td>3470</td></tr><tr><td>0.85</td><td>&quot;Ideal&quot;</td><td>&quot;H&quot;</td><td>&quot;SI1&quot;</td><td>&quot;EX&quot;</td><td>&quot;EX&quot;</td><td>&quot;GIA&quot;</td><td>3183</td></tr><tr><td>0.91</td><td>&quot;Ideal&quot;</td><td>&quot;E&quot;</td><td>&quot;SI1&quot;</td><td>&quot;VG&quot;</td><td>&quot;VG&quot;</td><td>&quot;GIA&quot;</td><td>4370</td></tr><tr><td>0.83</td><td>&quot;Ideal&quot;</td><td>&quot;G&quot;</td><td>&quot;SI1&quot;</td><td>&quot;EX&quot;</td><td>&quot;EX&quot;</td><td>&quot;GIA&quot;</td><td>3171</td></tr></tbody></table></div>"
      ],
      "text/plain": [
       "shape: (5, 8)\n",
       "┌──────────────┬───────┬───────┬─────────┬────────┬──────────┬────────┬───────┐\n",
       "│ Carat Weight ┆ Cut   ┆ Color ┆ Clarity ┆ Polish ┆ Symmetry ┆ Report ┆ Price │\n",
       "│ ---          ┆ ---   ┆ ---   ┆ ---     ┆ ---    ┆ ---      ┆ ---    ┆ ---   │\n",
       "│ f64          ┆ str   ┆ str   ┆ str     ┆ str    ┆ str      ┆ str    ┆ i64   │\n",
       "╞══════════════╪═══════╪═══════╪═════════╪════════╪══════════╪════════╪═══════╡\n",
       "│ 1.1          ┆ Ideal ┆ H     ┆ SI1     ┆ VG     ┆ EX       ┆ GIA    ┆ 5169  │\n",
       "│ 0.83         ┆ Ideal ┆ H     ┆ VS1     ┆ ID     ┆ ID       ┆ AGSL   ┆ 3470  │\n",
       "│ 0.85         ┆ Ideal ┆ H     ┆ SI1     ┆ EX     ┆ EX       ┆ GIA    ┆ 3183  │\n",
       "│ 0.91         ┆ Ideal ┆ E     ┆ SI1     ┆ VG     ┆ VG       ┆ GIA    ┆ 4370  │\n",
       "│ 0.83         ┆ Ideal ┆ G     ┆ SI1     ┆ EX     ┆ EX       ┆ GIA    ┆ 3171  │\n",
       "└──────────────┴───────┴───────┴─────────┴────────┴──────────┴────────┴───────┘"
      ]
     },
     "execution_count": 17,
     "metadata": {},
     "output_type": "execute_result"
    }
   ],
   "source": [
    "# read csv file\n",
    "import polars as pl\n",
    "import pandas as pd\n",
    "\n",
    "data = pl.read_csv('diamond.csv')\n",
    "\n",
    "\n",
    "# check the head\n",
    "data.head()\n"
   ]
  },
  {
   "cell_type": "code",
   "execution_count": 6,
   "id": "e2feb4a0",
   "metadata": {},
   "outputs": [
    {
     "data": {
      "text/plain": [
       "polars.dataframe.frame.DataFrame"
      ]
     },
     "execution_count": 6,
     "metadata": {},
     "output_type": "execute_result"
    }
   ],
   "source": [
    "type(data)"
   ]
  },
  {
   "cell_type": "markdown",
   "id": "bf6e1702",
   "metadata": {},
   "source": [
    "## Selecting and filtering data"
   ]
  },
  {
   "cell_type": "code",
   "execution_count": 8,
   "id": "1cc8c0b9",
   "metadata": {},
   "outputs": [
    {
     "data": {
      "text/html": [
       "<div><style>\n",
       ".dataframe > thead > tr > th,\n",
       ".dataframe > tbody > tr > td {\n",
       "  text-align: right;\n",
       "}\n",
       "</style>\n",
       "<small>shape: (5, 3)</small><table border=\"1\" class=\"dataframe\"><thead><tr><th>Carat Weight</th><th>Cut</th><th>Price</th></tr><tr><td>f64</td><td>str</td><td>i64</td></tr></thead><tbody><tr><td>1.1</td><td>&quot;Ideal&quot;</td><td>5169</td></tr><tr><td>0.83</td><td>&quot;Ideal&quot;</td><td>3470</td></tr><tr><td>0.85</td><td>&quot;Ideal&quot;</td><td>3183</td></tr><tr><td>0.91</td><td>&quot;Ideal&quot;</td><td>4370</td></tr><tr><td>0.83</td><td>&quot;Ideal&quot;</td><td>3171</td></tr></tbody></table></div>"
      ],
      "text/plain": [
       "shape: (5, 3)\n",
       "┌──────────────┬───────┬───────┐\n",
       "│ Carat Weight ┆ Cut   ┆ Price │\n",
       "│ ---          ┆ ---   ┆ ---   │\n",
       "│ f64          ┆ str   ┆ i64   │\n",
       "╞══════════════╪═══════╪═══════╡\n",
       "│ 1.1          ┆ Ideal ┆ 5169  │\n",
       "│ 0.83         ┆ Ideal ┆ 3470  │\n",
       "│ 0.85         ┆ Ideal ┆ 3183  │\n",
       "│ 0.91         ┆ Ideal ┆ 4370  │\n",
       "│ 0.83         ┆ Ideal ┆ 3171  │\n",
       "└──────────────┴───────┴───────┘"
      ]
     },
     "execution_count": 8,
     "metadata": {},
     "output_type": "execute_result"
    }
   ],
   "source": [
    "# Select specific columns: carat, cut, and price\n",
    "selected_df = data.select(['Carat Weight', 'Cut', 'Price'])\n",
    "\n",
    "# show selected_df head\n",
    "selected_df.head()"
   ]
  },
  {
   "cell_type": "code",
   "execution_count": 9,
   "id": "5a0d827d",
   "metadata": {},
   "outputs": [
    {
     "data": {
      "text/html": [
       "<div><style>\n",
       ".dataframe > thead > tr > th,\n",
       ".dataframe > tbody > tr > td {\n",
       "  text-align: right;\n",
       "}\n",
       "</style>\n",
       "<small>shape: (5, 8)</small><table border=\"1\" class=\"dataframe\"><thead><tr><th>Carat Weight</th><th>Cut</th><th>Color</th><th>Clarity</th><th>Polish</th><th>Symmetry</th><th>Report</th><th>Price</th></tr><tr><td>f64</td><td>str</td><td>str</td><td>str</td><td>str</td><td>str</td><td>str</td><td>i64</td></tr></thead><tbody><tr><td>2.11</td><td>&quot;Ideal&quot;</td><td>&quot;H&quot;</td><td>&quot;SI1&quot;</td><td>&quot;VG&quot;</td><td>&quot;VG&quot;</td><td>&quot;GIA&quot;</td><td>18609</td></tr><tr><td>2.51</td><td>&quot;Very Good&quot;</td><td>&quot;G&quot;</td><td>&quot;VS2&quot;</td><td>&quot;VG&quot;</td><td>&quot;VG&quot;</td><td>&quot;GIA&quot;</td><td>34361</td></tr><tr><td>2.2</td><td>&quot;Ideal&quot;</td><td>&quot;H&quot;</td><td>&quot;VS2&quot;</td><td>&quot;EX&quot;</td><td>&quot;VG&quot;</td><td>&quot;GIA&quot;</td><td>22241</td></tr><tr><td>2.6</td><td>&quot;Ideal&quot;</td><td>&quot;G&quot;</td><td>&quot;VS2&quot;</td><td>&quot;EX&quot;</td><td>&quot;EX&quot;</td><td>&quot;GIA&quot;</td><td>37621</td></tr><tr><td>2.02</td><td>&quot;Good&quot;</td><td>&quot;I&quot;</td><td>&quot;VVS2&quot;</td><td>&quot;EX&quot;</td><td>&quot;VG&quot;</td><td>&quot;GIA&quot;</td><td>19756</td></tr></tbody></table></div>"
      ],
      "text/plain": [
       "shape: (5, 8)\n",
       "┌──────────────┬───────────┬───────┬─────────┬────────┬──────────┬────────┬───────┐\n",
       "│ Carat Weight ┆ Cut       ┆ Color ┆ Clarity ┆ Polish ┆ Symmetry ┆ Report ┆ Price │\n",
       "│ ---          ┆ ---       ┆ ---   ┆ ---     ┆ ---    ┆ ---      ┆ ---    ┆ ---   │\n",
       "│ f64          ┆ str       ┆ str   ┆ str     ┆ str    ┆ str      ┆ str    ┆ i64   │\n",
       "╞══════════════╪═══════════╪═══════╪═════════╪════════╪══════════╪════════╪═══════╡\n",
       "│ 2.11         ┆ Ideal     ┆ H     ┆ SI1     ┆ VG     ┆ VG       ┆ GIA    ┆ 18609 │\n",
       "│ 2.51         ┆ Very Good ┆ G     ┆ VS2     ┆ VG     ┆ VG       ┆ GIA    ┆ 34361 │\n",
       "│ 2.2          ┆ Ideal     ┆ H     ┆ VS2     ┆ EX     ┆ VG       ┆ GIA    ┆ 22241 │\n",
       "│ 2.6          ┆ Ideal     ┆ G     ┆ VS2     ┆ EX     ┆ EX       ┆ GIA    ┆ 37621 │\n",
       "│ 2.02         ┆ Good      ┆ I     ┆ VVS2    ┆ EX     ┆ VG       ┆ GIA    ┆ 19756 │\n",
       "└──────────────┴───────────┴───────┴─────────┴────────┴──────────┴────────┴───────┘"
      ]
     },
     "execution_count": 9,
     "metadata": {},
     "output_type": "execute_result"
    }
   ],
   "source": [
    "# filter the df with condition\n",
    "filtered_df = data.filter(pl.col('Carat Weight') > 2.0)\n",
    "\n",
    "\n",
    "# show filtered_df head\n",
    "filtered_df.head()"
   ]
  },
  {
   "cell_type": "markdown",
   "id": "38ad0b15",
   "metadata": {},
   "source": [
    "## Sorting and ordering data"
   ]
  },
  {
   "cell_type": "code",
   "execution_count": 11,
   "id": "b96a15be",
   "metadata": {},
   "outputs": [
    {
     "data": {
      "text/html": [
       "<div><style>\n",
       ".dataframe > thead > tr > th,\n",
       ".dataframe > tbody > tr > td {\n",
       "  text-align: right;\n",
       "}\n",
       "</style>\n",
       "<small>shape: (5, 8)</small><table border=\"1\" class=\"dataframe\"><thead><tr><th>Carat Weight</th><th>Cut</th><th>Color</th><th>Clarity</th><th>Polish</th><th>Symmetry</th><th>Report</th><th>Price</th></tr><tr><td>f64</td><td>str</td><td>str</td><td>str</td><td>str</td><td>str</td><td>str</td><td>i64</td></tr></thead><tbody><tr><td>0.77</td><td>&quot;Good&quot;</td><td>&quot;I&quot;</td><td>&quot;VS1&quot;</td><td>&quot;VG&quot;</td><td>&quot;G&quot;</td><td>&quot;AGSL&quot;</td><td>2184</td></tr><tr><td>0.77</td><td>&quot;Good&quot;</td><td>&quot;I&quot;</td><td>&quot;SI1&quot;</td><td>&quot;EX&quot;</td><td>&quot;VG&quot;</td><td>&quot;GIA&quot;</td><td>2241</td></tr><tr><td>0.78</td><td>&quot;Very Good&quot;</td><td>&quot;I&quot;</td><td>&quot;SI1&quot;</td><td>&quot;EX&quot;</td><td>&quot;VG&quot;</td><td>&quot;GIA&quot;</td><td>2348</td></tr><tr><td>0.75</td><td>&quot;Ideal&quot;</td><td>&quot;I&quot;</td><td>&quot;SI1&quot;</td><td>&quot;VG&quot;</td><td>&quot;VG&quot;</td><td>&quot;GIA&quot;</td><td>2383</td></tr><tr><td>0.76</td><td>&quot;Very Good&quot;</td><td>&quot;H&quot;</td><td>&quot;SI1&quot;</td><td>&quot;G&quot;</td><td>&quot;G&quot;</td><td>&quot;GIA&quot;</td><td>2396</td></tr></tbody></table></div>"
      ],
      "text/plain": [
       "shape: (5, 8)\n",
       "┌──────────────┬───────────┬───────┬─────────┬────────┬──────────┬────────┬───────┐\n",
       "│ Carat Weight ┆ Cut       ┆ Color ┆ Clarity ┆ Polish ┆ Symmetry ┆ Report ┆ Price │\n",
       "│ ---          ┆ ---       ┆ ---   ┆ ---     ┆ ---    ┆ ---      ┆ ---    ┆ ---   │\n",
       "│ f64          ┆ str       ┆ str   ┆ str     ┆ str    ┆ str      ┆ str    ┆ i64   │\n",
       "╞══════════════╪═══════════╪═══════╪═════════╪════════╪══════════╪════════╪═══════╡\n",
       "│ 0.77         ┆ Good      ┆ I     ┆ VS1     ┆ VG     ┆ G        ┆ AGSL   ┆ 2184  │\n",
       "│ 0.77         ┆ Good      ┆ I     ┆ SI1     ┆ EX     ┆ VG       ┆ GIA    ┆ 2241  │\n",
       "│ 0.78         ┆ Very Good ┆ I     ┆ SI1     ┆ EX     ┆ VG       ┆ GIA    ┆ 2348  │\n",
       "│ 0.75         ┆ Ideal     ┆ I     ┆ SI1     ┆ VG     ┆ VG       ┆ GIA    ┆ 2383  │\n",
       "│ 0.76         ┆ Very Good ┆ H     ┆ SI1     ┆ G      ┆ G        ┆ GIA    ┆ 2396  │\n",
       "└──────────────┴───────────┴───────┴─────────┴────────┴──────────┴────────┴───────┘"
      ]
     },
     "execution_count": 11,
     "metadata": {},
     "output_type": "execute_result"
    }
   ],
   "source": [
    "# sort the df by price\n",
    "sorted_df = data.sort(by='Price')\n",
    "\n",
    "# show sorted_df head\n",
    "sorted_df.head()"
   ]
  },
  {
   "cell_type": "markdown",
   "id": "37ed37b5",
   "metadata": {},
   "source": [
    "##  Handling missing values"
   ]
  },
  {
   "cell_type": "code",
   "execution_count": 12,
   "id": "e04b081f",
   "metadata": {},
   "outputs": [
    {
     "data": {
      "text/html": [
       "<div><style>\n",
       ".dataframe > thead > tr > th,\n",
       ".dataframe > tbody > tr > td {\n",
       "  text-align: right;\n",
       "}\n",
       "</style>\n",
       "<small>shape: (5, 8)</small><table border=\"1\" class=\"dataframe\"><thead><tr><th>Carat Weight</th><th>Cut</th><th>Color</th><th>Clarity</th><th>Polish</th><th>Symmetry</th><th>Report</th><th>Price</th></tr><tr><td>f64</td><td>str</td><td>str</td><td>str</td><td>str</td><td>str</td><td>str</td><td>i64</td></tr></thead><tbody><tr><td>1.1</td><td>&quot;Ideal&quot;</td><td>&quot;H&quot;</td><td>&quot;SI1&quot;</td><td>&quot;VG&quot;</td><td>&quot;EX&quot;</td><td>&quot;GIA&quot;</td><td>5169</td></tr><tr><td>0.83</td><td>&quot;Ideal&quot;</td><td>&quot;H&quot;</td><td>&quot;VS1&quot;</td><td>&quot;ID&quot;</td><td>&quot;ID&quot;</td><td>&quot;AGSL&quot;</td><td>3470</td></tr><tr><td>0.85</td><td>&quot;Ideal&quot;</td><td>&quot;H&quot;</td><td>&quot;SI1&quot;</td><td>&quot;EX&quot;</td><td>&quot;EX&quot;</td><td>&quot;GIA&quot;</td><td>3183</td></tr><tr><td>0.91</td><td>&quot;Ideal&quot;</td><td>&quot;E&quot;</td><td>&quot;SI1&quot;</td><td>&quot;VG&quot;</td><td>&quot;VG&quot;</td><td>&quot;GIA&quot;</td><td>4370</td></tr><tr><td>0.83</td><td>&quot;Ideal&quot;</td><td>&quot;G&quot;</td><td>&quot;SI1&quot;</td><td>&quot;EX&quot;</td><td>&quot;EX&quot;</td><td>&quot;GIA&quot;</td><td>3171</td></tr></tbody></table></div>"
      ],
      "text/plain": [
       "shape: (5, 8)\n",
       "┌──────────────┬───────┬───────┬─────────┬────────┬──────────┬────────┬───────┐\n",
       "│ Carat Weight ┆ Cut   ┆ Color ┆ Clarity ┆ Polish ┆ Symmetry ┆ Report ┆ Price │\n",
       "│ ---          ┆ ---   ┆ ---   ┆ ---     ┆ ---    ┆ ---      ┆ ---    ┆ ---   │\n",
       "│ f64          ┆ str   ┆ str   ┆ str     ┆ str    ┆ str      ┆ str    ┆ i64   │\n",
       "╞══════════════╪═══════╪═══════╪═════════╪════════╪══════════╪════════╪═══════╡\n",
       "│ 1.1          ┆ Ideal ┆ H     ┆ SI1     ┆ VG     ┆ EX       ┆ GIA    ┆ 5169  │\n",
       "│ 0.83         ┆ Ideal ┆ H     ┆ VS1     ┆ ID     ┆ ID       ┆ AGSL   ┆ 3470  │\n",
       "│ 0.85         ┆ Ideal ┆ H     ┆ SI1     ┆ EX     ┆ EX       ┆ GIA    ┆ 3183  │\n",
       "│ 0.91         ┆ Ideal ┆ E     ┆ SI1     ┆ VG     ┆ VG       ┆ GIA    ┆ 4370  │\n",
       "│ 0.83         ┆ Ideal ┆ G     ┆ SI1     ┆ EX     ┆ EX       ┆ GIA    ┆ 3171  │\n",
       "└──────────────┴───────┴───────┴─────────┴────────┴──────────┴────────┴───────┘"
      ]
     },
     "execution_count": 12,
     "metadata": {},
     "output_type": "execute_result"
    }
   ],
   "source": [
    "# drop missing values\n",
    "cleaned_df = data.drop_nulls()\n",
    "\n",
    "# show cleaned_df head\n",
    "cleaned_df.head()"
   ]
  },
  {
   "cell_type": "markdown",
   "id": "220b5e0f",
   "metadata": {},
   "source": [
    "## Grouping data based on specific columns"
   ]
  },
  {
   "cell_type": "code",
   "execution_count": 14,
   "id": "4b328676",
   "metadata": {},
   "outputs": [
    {
     "data": {
      "text/html": [
       "<div><style>\n",
       ".dataframe > thead > tr > th,\n",
       ".dataframe > tbody > tr > td {\n",
       "  text-align: right;\n",
       "}\n",
       "</style>\n",
       "<small>shape: (5, 2)</small><table border=\"1\" class=\"dataframe\"><thead><tr><th>Cut</th><th>Price</th></tr><tr><td>str</td><td>f64</td></tr></thead><tbody><tr><td>&quot;Fair&quot;</td><td>5886.178295</td></tr><tr><td>&quot;Signature-Idea…</td><td>11541.525692</td></tr><tr><td>&quot;Ideal&quot;</td><td>13127.331185</td></tr><tr><td>&quot;Good&quot;</td><td>9326.65678</td></tr><tr><td>&quot;Very Good&quot;</td><td>11484.69687</td></tr></tbody></table></div>"
      ],
      "text/plain": [
       "shape: (5, 2)\n",
       "┌─────────────────┬──────────────┐\n",
       "│ Cut             ┆ Price        │\n",
       "│ ---             ┆ ---          │\n",
       "│ str             ┆ f64          │\n",
       "╞═════════════════╪══════════════╡\n",
       "│ Fair            ┆ 5886.178295  │\n",
       "│ Signature-Ideal ┆ 11541.525692 │\n",
       "│ Ideal           ┆ 13127.331185 │\n",
       "│ Good            ┆ 9326.65678   │\n",
       "│ Very Good       ┆ 11484.69687  │\n",
       "└─────────────────┴──────────────┘"
      ]
     },
     "execution_count": 14,
     "metadata": {},
     "output_type": "execute_result"
    }
   ],
   "source": [
    "# group by cut and calc mean of price\n",
    "grouped_df = data.groupby(by='Cut').agg(pl.col('Price').mean())\n",
    "\n",
    "# show grouped_df head\n",
    "grouped_df.head()"
   ]
  },
  {
   "cell_type": "markdown",
   "id": "28373a49",
   "metadata": {},
   "source": [
    "## Joining and combining DataFrames"
   ]
  },
  {
   "cell_type": "code",
   "execution_count": 16,
   "id": "a24391f4",
   "metadata": {},
   "outputs": [
    {
     "data": {
      "text/html": [
       "<div><style>\n",
       ".dataframe > thead > tr > th,\n",
       ".dataframe > tbody > tr > td {\n",
       "  text-align: right;\n",
       "}\n",
       "</style>\n",
       "<small>shape: (2, 3)</small><table border=\"1\" class=\"dataframe\"><thead><tr><th>id</th><th>name</th><th>age</th></tr><tr><td>i64</td><td>str</td><td>i64</td></tr></thead><tbody><tr><td>2</td><td>&quot;Bypu&quot;</td><td>25</td></tr><tr><td>3</td><td>&quot;Cendra&quot;</td><td>30</td></tr></tbody></table></div>"
      ],
      "text/plain": [
       "shape: (2, 3)\n",
       "┌─────┬────────┬─────┐\n",
       "│ id  ┆ name   ┆ age │\n",
       "│ --- ┆ ---    ┆ --- │\n",
       "│ i64 ┆ str    ┆ i64 │\n",
       "╞═════╪════════╪═════╡\n",
       "│ 2   ┆ Bypu   ┆ 25  │\n",
       "│ 3   ┆ Cendra ┆ 30  │\n",
       "└─────┴────────┴─────┘"
      ]
     },
     "execution_count": 16,
     "metadata": {},
     "output_type": "execute_result"
    }
   ],
   "source": [
    "# Create the first DataFrame\n",
    "df1 = pl.DataFrame({\n",
    "    'id': [1, 2, 3, 4],\n",
    "    'name': ['Alan', 'Bypu', 'Cendra', 'Davki']\n",
    "})\n",
    "\n",
    "\n",
    "# Create the second DataFrame\n",
    "df2 = pl.DataFrame({\n",
    "    'id': [2, 3, 5],\n",
    "    'age': [25, 30, 35]\n",
    "})\n",
    "\n",
    "\n",
    "# Perform an inner join on the 'id' column\n",
    "joined_df = df1.join(df2, on='id')\n",
    "\n",
    "\n",
    "# Display the joined DataFrame\n",
    "joined_df"
   ]
  },
  {
   "cell_type": "markdown",
   "id": "ea31e29a",
   "metadata": {},
   "source": [
    "## Converting Polars DataFrames to pandas DataFrames"
   ]
  },
  {
   "cell_type": "code",
   "execution_count": 18,
   "id": "b912b129",
   "metadata": {},
   "outputs": [
    {
     "data": {
      "text/html": [
       "<div>\n",
       "<style scoped>\n",
       "    .dataframe tbody tr th:only-of-type {\n",
       "        vertical-align: middle;\n",
       "    }\n",
       "\n",
       "    .dataframe tbody tr th {\n",
       "        vertical-align: top;\n",
       "    }\n",
       "\n",
       "    .dataframe thead th {\n",
       "        text-align: right;\n",
       "    }\n",
       "</style>\n",
       "<table border=\"1\" class=\"dataframe\">\n",
       "  <thead>\n",
       "    <tr style=\"text-align: right;\">\n",
       "      <th></th>\n",
       "      <th>column_A</th>\n",
       "      <th>column_B</th>\n",
       "    </tr>\n",
       "  </thead>\n",
       "  <tbody>\n",
       "    <tr>\n",
       "      <th>0</th>\n",
       "      <td>1</td>\n",
       "      <td>apple</td>\n",
       "    </tr>\n",
       "    <tr>\n",
       "      <th>1</th>\n",
       "      <td>2</td>\n",
       "      <td>banana</td>\n",
       "    </tr>\n",
       "    <tr>\n",
       "      <th>2</th>\n",
       "      <td>3</td>\n",
       "      <td>orange</td>\n",
       "    </tr>\n",
       "  </tbody>\n",
       "</table>\n",
       "</div>"
      ],
      "text/plain": [
       "   column_A column_B\n",
       "0         1    apple\n",
       "1         2   banana\n",
       "2         3   orange"
      ]
     },
     "execution_count": 18,
     "metadata": {},
     "output_type": "execute_result"
    }
   ],
   "source": [
    "# Create a Polars DataFrame\n",
    "df_polars = pl.DataFrame({\n",
    "    'column_A': [1, 2, 3],\n",
    "    'column_B': ['apple', 'banana', 'orange']\n",
    "})\n",
    "\n",
    "\n",
    "# Convert Polars DataFrame to Pandas DataFrame\n",
    "df_pandas = df_polars.to_pandas()\n",
    "\n",
    "\n",
    "# Display the Pandas DataFrame\n",
    "df_pandas"
   ]
  }
 ],
 "metadata": {
  "kernelspec": {
   "display_name": "Python 3 (ipykernel)",
   "language": "python",
   "name": "python3"
  },
  "language_info": {
   "codemirror_mode": {
    "name": "ipython",
    "version": 3
   },
   "file_extension": ".py",
   "mimetype": "text/x-python",
   "name": "python",
   "nbconvert_exporter": "python",
   "pygments_lexer": "ipython3",
   "version": "3.9.12"
  }
 },
 "nbformat": 4,
 "nbformat_minor": 5
}
